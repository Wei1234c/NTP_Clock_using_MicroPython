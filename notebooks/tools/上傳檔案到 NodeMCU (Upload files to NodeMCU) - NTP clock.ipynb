{
 "cells": [
  {
   "cell_type": "markdown",
   "metadata": {},
   "source": [
    "# 上傳檔案到 NodeMCU (Upload files to NodeMCU) - NTP clock"
   ]
  },
  {
   "cell_type": "markdown",
   "metadata": {},
   "source": [
    "### 需先安裝 ampy ( Adafruit MicroPython Tool )\n",
    "#### pip install adafruit-ampy\n",
    "https://github.com/adafruit/ampy  "
   ]
  },
  {
   "cell_type": "code",
   "execution_count": 2,
   "metadata": {
    "collapsed": true
   },
   "outputs": [],
   "source": [
    "import os\n",
    "import shutil"
   ]
  },
  {
   "cell_type": "markdown",
   "metadata": {},
   "source": [
    "### 設定COM port (set current COM port)"
   ]
  },
  {
   "cell_type": "code",
   "execution_count": 3,
   "metadata": {
    "collapsed": true
   },
   "outputs": [],
   "source": [
    "com_port = 'COM7'\n",
    "# com_port = 'COM8'\n",
    "# com_port = 'COM12'\n",
    "# com_port = 'COM13'\n",
    "# com_port = 'COM15'\n",
    "# com_port = 'COM16'\n",
    "# com_port = '/dev/ttyUSB0'"
   ]
  },
  {
   "cell_type": "markdown",
   "metadata": {},
   "source": [
    "### Utility functions"
   ]
  },
  {
   "cell_type": "code",
   "execution_count": 4,
   "metadata": {
    "collapsed": true
   },
   "outputs": [],
   "source": [
    "def clear_local_folder(folder):\n",
    "    print('\\n[Clearing folder {}]'.format(folder))\n",
    "    for file in os.listdir(folder):\n",
    "        os.remove(os.path.join(folder, file))\n",
    "        \n",
    "        \n",
    "def copy_one_file_to_local_folder(folder, file, destination_folder):\n",
    "    print('Copying {} to {}'.format(file, destination_folder))\n",
    "    shutil.copy(os.path.join(folder, file), destination_folder)\n",
    "    \n",
    "    \n",
    "def copy_all_files_to_local_folder(folders, destination_folder):\n",
    "    print('\\n[Copying all files to upload folder {}]'.format(destination_folder))\n",
    "    clear_local_folder(destination_folder)    \n",
    "    \n",
    "    for folder in folders: \n",
    "        for file in os.listdir(folder):\n",
    "            if (file.endswith('.py') or file.endswith('.mpy')) and not file.startswith('_'):\n",
    "                copy_one_file_to_local_folder(folder, file, destination_folder)"
   ]
  },
  {
   "cell_type": "code",
   "execution_count": 5,
   "metadata": {
    "collapsed": true
   },
   "outputs": [],
   "source": [
    "def list_files_in_device(com_port):\n",
    "    files = !ampy --port {com_port} ls\n",
    "    return sorted(files)\n",
    "\n",
    "\n",
    "def cat_file_from_device(com_port, file):\n",
    "    !ampy --port {com_port} get {file}\n",
    "    \n",
    "\n",
    "def delete_file_in_device(com_port, file):\n",
    "    print('Deleting {}'.format(file))\n",
    "    !ampy --port {com_port} rm {file}\n",
    "    \n",
    "\n",
    "def delete_files_in_device(com_port):\n",
    "    print('\\n[Deleting all files in device {}]'.format(com_port))\n",
    "    for file in list_files_in_device(com_port):\n",
    "        delete_file_in_device(com_port, file)\n",
    "        \n",
    "#     try:\n",
    "#         !ampy --port {com_port} rmdir {'/'}\n",
    "#     except Exception as e:\n",
    "#         print(e)        \n",
    "        \n",
    "        \n",
    "def copy_one_file_to_device(com_port, folder, file, mpy_only = False):\n",
    "    if mpy_only:\n",
    "        if file.endswith('.mpy'):\n",
    "            print('Copying {}'.format(file))\n",
    "            !ampy --port {com_port} put {os.path.join(folder, file)}  \n",
    "    elif file.endswith('.py'):\n",
    "        print('Copying {}'.format(file))\n",
    "        !ampy --port {com_port} put {os.path.join(folder, file)}   \n",
    "        \n",
    "\n",
    "def delet_main_in_device(com_port, main_file_names):\n",
    "    print('Deleting {}'.format(main_file_names))\n",
    "    files = list_files_in_device(com_port)\n",
    "\n",
    "    for file in main_file_names:\n",
    "        if file in files:\n",
    "            delete_file_in_device(com_port, file)\n",
    "            \n",
    "            \n",
    "def delete_main_and_files_in_device(com_port, main_file_names = ['main.py', 'main.mpy'], delete_first = True, mpy_only = False):\n",
    "    print('\\n[Copying all files to device {}]'.format(com_port))\n",
    "    delet_main_in_device(com_port, main_file_names)\n",
    "    if mpy_only: delete_first = True\n",
    "    if delete_first: delete_files_in_device(com_port)\n",
    "        \n",
    "\n",
    "def copy_all_files_to_device(com_port, folder, main_file_names = ['main.py', 'main.mpy'], delete_first = True, mpy_only = False):    \n",
    "    for file in os.listdir(folder):\n",
    "        if (file.endswith('.py') or file.endswith('.mpy')) and not file.startswith('_') and not file in main_file_names:\n",
    "            copy_one_file_to_device(com_port, folder, file, mpy_only)                    \n",
    "    \n",
    "    for file in main_file_names:\n",
    "        if os.path.isfile(os.path.join(folder, file)):\n",
    "            copy_one_file_to_device(com_port, folder, file, mpy_only)  \n",
    "            \n",
    "            \n",
    "def do_all_to_device(com_port, folder, main_file_names = ['main.py', 'main.mpy'], delete_first = True, mpy_only = False):\n",
    "    delete_main_and_files_in_device(com_port, main_file_names, delete_first, mpy_only)\n",
    "    copy_all_files_to_device(com_port, folder, main_file_names, delete_first, mpy_only)"
   ]
  },
  {
   "cell_type": "markdown",
   "metadata": {},
   "source": [
    "### Copy *.py to device (all needed fils will be put in the same folder)"
   ]
  },
  {
   "cell_type": "code",
   "execution_count": 5,
   "metadata": {
    "scrolled": true
   },
   "outputs": [
    {
     "name": "stdout",
     "output_type": "stream",
     "text": [
      "\n",
      "[Copying all files to upload folder upload\\py]\n",
      "\n",
      "[Clearing folder upload\\py]\n",
      "Copying boot.py to upload\\py\n",
      "Copying display_ssd1306_i2c.py to upload\\py\n",
      "Copying hardware.py to upload\\py\n",
      "Copying led.py to upload\\py\n",
      "Copying main.py to upload\\py\n",
      "Copying matrix_codes.py to upload\\py\n",
      "Copying max_matrices.py to upload\\py\n",
      "Copying max_matrix.py to upload\\py\n",
      "Copying ntp_client.py to upload\\py\n",
      "Copying ntp_clock.py to upload\\py\n",
      "Copying qs30_1.py to upload\\py\n",
      "Copying shift_register.py to upload\\py\n",
      "Copying tm1629.py to upload\\py\n",
      "Copying wf8266kd.py to upload\\py\n",
      "Copying wf8266kd_commands.py to upload\\py\n",
      "Copying wf8266t.py to upload\\py\n",
      "Copying wf8266t_basic_functions.py to upload\\py\n",
      "Copying ws2812_clock_face.py to upload\\py\n",
      "Copying ws2812_clock_patterns.py to upload\\py\n",
      "Copying node.py to upload\\py\n",
      "Copying worker_upython_oled_clock.py to upload\\py\n"
     ]
    }
   ],
   "source": [
    "folders = [os.path.sep.join(['..', '..', 'codes', 'micropython']),\n",
    "           os.path.sep.join(['..', '..', 'codes', 'node']),]\n",
    "upload_folder = os.path.sep.join(['upload', 'py'])\n",
    "\n",
    "copy_all_files_to_local_folder(folders, upload_folder)"
   ]
  },
  {
   "cell_type": "code",
   "execution_count": 116,
   "metadata": {
    "scrolled": false
   },
   "outputs": [
    {
     "name": "stdout",
     "output_type": "stream",
     "text": [
      "\n",
      "[Copying all files to device COM15]\n",
      "Deleting ['main.py', 'main.mpy']\n",
      "Deleting main.py\n",
      "\n",
      "[Deleting all files in device COM15]\n",
      "Deleting boot.py\n",
      "Deleting display_ssd1306_i2c.py\n",
      "Deleting hardware.py\n",
      "Deleting led.py\n",
      "Deleting matrix_codes.py\n",
      "Deleting max_matrices.py\n",
      "Deleting max_matrix.py\n",
      "Deleting node.py\n",
      "Deleting ntp_client.py\n",
      "Deleting ntp_clock.py\n",
      "Deleting qs30_1.py\n",
      "Deleting shift_register.py\n",
      "Deleting tm1629.py\n",
      "Deleting wf8266kd.py\n",
      "Deleting wf8266kd_commands.py\n",
      "Deleting wf8266t.py\n",
      "Deleting wf8266t_basic_functions.py\n",
      "Deleting worker_upython_oled_clock.py\n",
      "Deleting ws2812_clock_face.py\n",
      "Deleting ws2812_clock_patterns.py\n",
      "Copying boot.py\n",
      "Copying display_ssd1306_i2c.py\n",
      "Copying hardware.py\n",
      "Copying led.py\n",
      "Copying matrix_codes.py\n",
      "Copying max_matrices.py\n",
      "Copying max_matrix.py\n",
      "Copying node.py\n",
      "Copying ntp_client.py\n",
      "Copying ntp_clock.py\n",
      "Copying qs30_1.py\n",
      "Copying shift_register.py\n",
      "Copying tm1629.py\n",
      "Copying wf8266kd.py\n",
      "Copying wf8266kd_commands.py\n",
      "Copying wf8266t.py\n",
      "Copying wf8266t_basic_functions.py\n",
      "Copying worker_upython_oled_clock.py\n",
      "Copying ws2812_clock_face.py\n",
      "Copying ws2812_clock_patterns.py\n",
      "Copying main.py\n",
      "\n",
      "[All done!]\n"
     ]
    }
   ],
   "source": [
    "upload_folder_py = os.path.sep.join(['upload', 'py'])\n",
    "\n",
    "do_all_to_device(com_port, upload_folder, delete_first = True)\n",
    "\n",
    "print('\\n[All done!]')"
   ]
  },
  {
   "cell_type": "markdown",
   "metadata": {},
   "source": [
    "### Copy *.mpy to device"
   ]
  },
  {
   "cell_type": "code",
   "execution_count": null,
   "metadata": {
    "collapsed": true,
    "scrolled": false
   },
   "outputs": [],
   "source": [
    "upload_folder_py = os.path.sep.join(['upload', 'py'])\n",
    "upload_folder_mpy = os.path.sep.join(['upload', 'mpy'])\n",
    "\n",
    "do_all_to_device(com_port, upload_folder_mpy, mpy_only = True)\n",
    "\n",
    "copy_one_file_to_device(com_port, upload_folder_py, 'boot.py')\n",
    "copy_one_file_to_device(com_port, upload_folder_py, 'main.py')\n",
    "\n",
    "print('\\n[All done!]')"
   ]
  },
  {
   "cell_type": "markdown",
   "metadata": {},
   "source": [
    "### 單一檔案上傳 (single file upload, in case needed)"
   ]
  },
  {
   "cell_type": "code",
   "execution_count": null,
   "metadata": {
    "collapsed": true
   },
   "outputs": [],
   "source": [
    "copy_one_file_to_device(com_port, os.path.sep.join(['..', '..', 'codes', 'node']), 'node.py') "
   ]
  },
  {
   "cell_type": "code",
   "execution_count": null,
   "metadata": {
    "collapsed": true
   },
   "outputs": [],
   "source": [
    "copy_one_file_to_device(com_port, os.path.sep.join(['..', '..', 'codes', 'node']), 'worker_upython_oled_clock.py') "
   ]
  },
  {
   "cell_type": "code",
   "execution_count": 6,
   "metadata": {},
   "outputs": [
    {
     "name": "stdout",
     "output_type": "stream",
     "text": [
      "Copying ntp_clock.py\n"
     ]
    }
   ],
   "source": [
    "copy_one_file_to_device(com_port, os.path.sep.join(['..', '..', 'codes', 'micropython']), 'ntp_clock.py') "
   ]
  },
  {
   "cell_type": "code",
   "execution_count": 117,
   "metadata": {},
   "outputs": [
    {
     "name": "stdout",
     "output_type": "stream",
     "text": [
      "Copying main.py\n"
     ]
    }
   ],
   "source": [
    "copy_one_file_to_device(com_port, os.path.sep.join(['..', '..', 'codes', 'micropython']), 'main.py') "
   ]
  },
  {
   "cell_type": "code",
   "execution_count": null,
   "metadata": {
    "collapsed": true
   },
   "outputs": [],
   "source": [
    "copy_one_file_to_device(com_port, os.path.sep.join(['..', '..', 'codes', 'micropython']), 'tm1629.py') "
   ]
  },
  {
   "cell_type": "code",
   "execution_count": null,
   "metadata": {
    "collapsed": true
   },
   "outputs": [],
   "source": [
    "copy_one_file_to_device(com_port, os.path.sep.join(['..', '..', 'codes', 'micropython']), 'wf8266t.py') "
   ]
  },
  {
   "cell_type": "code",
   "execution_count": null,
   "metadata": {
    "collapsed": true
   },
   "outputs": [],
   "source": [
    "copy_one_file_to_device(com_port, os.path.sep.join(['..', '..', 'codes', 'micropython']), 'wf8266kd.py') "
   ]
  },
  {
   "cell_type": "code",
   "execution_count": 24,
   "metadata": {},
   "outputs": [
    {
     "name": "stdout",
     "output_type": "stream",
     "text": [
      "Copying max_matrices.py\n"
     ]
    }
   ],
   "source": [
    "copy_one_file_to_device(com_port, os.path.sep.join(['..', '..', 'codes', 'micropython']), 'max_matrices.py') "
   ]
  },
  {
   "cell_type": "code",
   "execution_count": 12,
   "metadata": {},
   "outputs": [
    {
     "name": "stdout",
     "output_type": "stream",
     "text": [
      "Copying shift_register.py\n"
     ]
    }
   ],
   "source": [
    "copy_one_file_to_device(com_port, os.path.sep.join(['..', '..', 'codes', 'micropython']), 'shift_register.py') "
   ]
  },
  {
   "cell_type": "code",
   "execution_count": 118,
   "metadata": {},
   "outputs": [
    {
     "name": "stdout",
     "output_type": "stream",
     "text": [
      "Copying qs30_1.py\n"
     ]
    }
   ],
   "source": [
    "copy_one_file_to_device(com_port, os.path.sep.join(['..', '..', 'codes', 'micropython']), 'qs30_1.py') "
   ]
  },
  {
   "cell_type": "markdown",
   "metadata": {},
   "source": [
    "### 列出檔案 (list files)"
   ]
  },
  {
   "cell_type": "code",
   "execution_count": null,
   "metadata": {
    "collapsed": true
   },
   "outputs": [],
   "source": [
    "# list_files_in_device(com_port)"
   ]
  },
  {
   "cell_type": "markdown",
   "metadata": {},
   "source": [
    "### 檢查檔案內容 (check file content)"
   ]
  },
  {
   "cell_type": "code",
   "execution_count": null,
   "metadata": {
    "collapsed": true
   },
   "outputs": [],
   "source": [
    "# cat_file_from_device(com_port, 'ntp_clock.py')"
   ]
  },
  {
   "cell_type": "markdown",
   "metadata": {},
   "source": [
    "### 連網測試 (network config and test)"
   ]
  },
  {
   "cell_type": "code",
   "execution_count": null,
   "metadata": {
    "collapsed": true
   },
   "outputs": [],
   "source": [
    "# 連上網路\n",
    "# import network; nic=network.WLAN(network.STA_IF); nic.active(True); nic.connect('SSID','password');nic.ifconfig()\n",
    "# import network; nic=network.WLAN(network.STA_IF); nic.active(True); nic.connect('Kingnet-70M-$370', '');nic.ifconfig()\n",
    "# import network; nic=network.WLAN(network.STA_IF); nic.ifconfig()\n",
    "# import network; nic=network.WLAN(network.STA_IF);nic.ifconfig();nic.config('mac');nic.ifconfig((['mac',])"
   ]
  },
  {
   "cell_type": "code",
   "execution_count": null,
   "metadata": {
    "collapsed": true
   },
   "outputs": [],
   "source": [
    "# 發出 http request\n",
    "# import socket;addr=socket.getaddrinfo('micropython.org',80)[0][-1]\n",
    "# s = socket.socket();s.connect(addr);s.send(b'GET / HTTP/1.1\\r\\nHost: micropython.org\\r\\n\\r\\n');data = s.recv(1000);s.close()"
   ]
  },
  {
   "cell_type": "code",
   "execution_count": null,
   "metadata": {
    "collapsed": true
   },
   "outputs": [],
   "source": [
    "# Delete all files\n",
    "# import u_python;u_python.del_all_files();import os;os.listdir()\n"
   ]
  },
  {
   "cell_type": "markdown",
   "metadata": {},
   "source": [
    "### Run Own Broker container on Raspberry Pi\n",
    "copy folder 'codes' to Raspberry Pi under folder '/data/elastic_network_of_things_with_micropython',  \n",
    "so Raspberry Pi has folder '/data/elastic_network_of_things_with_micropython/codes'  \n",
    "then run the command below on Raspberry Pi.\n",
    "\n",
    "```\n",
    "docker run -it -p 9662:9662 --name=Broker --hostname=Broker --volume=/data/elastic_network_of_things_with_micropython:/project wei1234c/python_armv7 /bin/sh -c \"cd /project/codes/broker && python3 broker.py\" \n",
    "```"
   ]
  },
  {
   "cell_type": "markdown",
   "metadata": {},
   "source": [
    "### Run MQTT Broker container on Raspberry Pi  \n",
    "\n",
    "https://store.docker.com/community/images/pascaldevink/rpi-mosquitto\n",
    "\n",
    "place your mosquitto.conf in /srv/mqtt/config/  \n",
    "NOTE: You have to change the permissions of the directories  \n",
    "to allow the user to read/write to data and log and read from  \n",
    "\n",
    "config directory\n",
    "For TESTING purposes you can use chmod -R 777 /srv/mqtt/*  \n",
    "Better use \"-u\" with a valid user id on your docker host  \n",
    "\n",
    "on Raspberry Pi  \n",
    "copy mqtt/config mqtt/log mqtt/data on to RPi under /data/elastic_network_of_things_with_mqtt_and_micropython/mqtt  \n",
    "\n",
    "grand permission for user  \n",
    "sudo chmod -R 777 /data/elastic_network_of_things_with_mqtt_and_micropython/mqtt/*  \n",
    "```\n",
    "docker run -it --rm -p 1883:1883 -p 9001:9001 --name=Mosquitto --hostname=Mosquitto \\  \n",
    "--volume=/data/elastic_network_of_things_with_mqtt_and_micropython/mqtt/config:/mqtt/config:ro \\\n",
    "--volume=/data/elastic_network_of_things_with_mqtt_and_micropython/mqtt/data:/mqtt/data \\\n",
    "--volume=/data/elastic_network_of_things_with_mqtt_and_micropython/mqtt/log:/mqtt/log \\\n",
    "pascaldevink/rpi-mosquitto /usr/sbin/mosquitto -v -c /mqtt/config/mosquitto.conf\n",
    "```"
   ]
  }
 ],
 "metadata": {
  "anaconda-cloud": {},
  "kernelspec": {
   "display_name": "Python 3",
   "language": "python",
   "name": "python3"
  },
  "language_info": {
   "codemirror_mode": {
    "name": "ipython",
    "version": 3
   },
   "file_extension": ".py",
   "mimetype": "text/x-python",
   "name": "python",
   "nbconvert_exporter": "python",
   "pygments_lexer": "ipython3",
   "version": "3.5.3"
  }
 },
 "nbformat": 4,
 "nbformat_minor": 1
}
